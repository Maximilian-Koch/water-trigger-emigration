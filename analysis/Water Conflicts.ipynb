{
 "cells": [
  {
   "cell_type": "markdown",
   "id": "37011ebf",
   "metadata": {},
   "source": [
    "## Water Conflict Dataset\n",
    "\n"
   ]
  },
  {
   "cell_type": "markdown",
   "id": "7d50fa72",
   "metadata": {},
   "source": [
    "The Water Conflict dataset [1] was copied and stored into data/Water Conflicts.\n",
    "This notebook summarises all the events into 5 year periods, so that it fits with the emigration data, and just saves the trigger events."
   ]
  },
  {
   "cell_type": "code",
   "execution_count": 1,
   "id": "fe05f42c",
   "metadata": {},
   "outputs": [],
   "source": [
    "import pandas as pd\n",
    "import numpy as np\n",
    "import re\n",
    "\n",
    "wc = pd.read_csv(\"data/Water Conflicts.csv\")\n",
    "replace_map = {\"Cote D'Ivoire\":\"Côte d'Ivoire\",\n",
    "    \"Democratic Republic of the Congo\":\"Democratic Republic of Congo\",\n",
    "    \"Scotland\" : \"United Kingdom\", \"Syria\" : \"Syrian Arab Republic\",\n",
    "    \"Türkiye\" : \"Turkey\"}\n",
    "wc = wc.replace(replace_map)"
   ]
  },
  {
   "cell_type": "code",
   "execution_count": 2,
   "id": "5ebfcd7f",
   "metadata": {},
   "outputs": [],
   "source": [
    "#some entries contain several countries\n",
    "def list_split(x):\n",
    "    try:\n",
    "        l = list(set(x.split(', ')))\n",
    "        if l[0][0] in ['\"',' ']:\n",
    "            l[0] = l[0][1:]\n",
    "        return l\n",
    "    except AttributeError:\n",
    "        return ''\n",
    "wc['Country'] = wc['Country'].apply(list_split)"
   ]
  },
  {
   "cell_type": "code",
   "execution_count": 3,
   "id": "03326173",
   "metadata": {},
   "outputs": [],
   "source": [
    "def extract_start_year(date_str):\n",
    "    if isinstance(date_str, str):\n",
    "        years = re.findall(r'\\b\\d{4}\\b', date_str)\n",
    "        if years:\n",
    "            return min(map(int, years))\n",
    "    #cases like '1980s' -> 1980\n",
    "    if isinstance(date_str, str) and date_str.endswith('s'):\n",
    "         decade_match = re.match(r'(\\d{4})s', date_str)\n",
    "         if decade_match:\n",
    "             return int(decade_match.group(1))\n",
    "    return np.nan\n",
    "\n",
    "wc['Start_Year'] = wc['Date'].apply(extract_start_year)\n",
    "wc.dropna(subset=['Start_Year'], inplace=True)\n",
    "wc['Start_Year'] = wc['Start_Year'].astype(int)\n",
    "wc_filtered = wc[wc['Start_Year'] >= 1980].copy()\n",
    "\n",
    "min_year = 1980\n",
    "max_year = wc_filtered['Start_Year'].max()\n",
    "\n",
    "bins = list(range(min_year, max_year + 6, 5))\n",
    "labels = ['1985', '1990', '1995', '2000', '2005', '2010', '2015', '2020', '2024']\n",
    "\n",
    "\n",
    "if len(labels) > len(bins) - 1:\n",
    "    labels = labels[:len(bins)-1]\n",
    "elif len(labels) < len(bins) - 1 and bins: #incomplete final bin\n",
    "        last_bin_start = bins[-2]\n",
    "        labels.append(f\"{last_bin_start}-{last_bin_start+4}\")\n",
    "\n",
    "wc_filtered['Year'] = pd.cut(wc_filtered['Start_Year'], bins=bins, labels=labels, right=False, include_lowest=True)\n",
    "\n",
    "wc_exploded = wc_filtered.explode('Country')\n"
   ]
  },
  {
   "cell_type": "code",
   "execution_count": 4,
   "id": "55468d02",
   "metadata": {},
   "outputs": [],
   "source": [
    "wc_exploded = wc_exploded[wc_exploded['Conflict Type'].str.contains('Trigger')]\n",
    "summary_triggers = wc_exploded.groupby(['Year', 'Country'], observed=False).size().reset_index(name='Event_Count')\n",
    "summary_triggers.to_csv('data/Water Conflict - Triggers.csv',index=False)"
   ]
  },
  {
   "cell_type": "markdown",
   "id": "a8af20a2",
   "metadata": {},
   "source": [
    "[1] Pacific Institute (2024) Water Conflict Chronology. Pacific Institute, Oakland, CA. https://www.worldwater.org/water-conflict/."
   ]
  }
 ],
 "metadata": {
  "kernelspec": {
   "display_name": "Python 3",
   "language": "python",
   "name": "python3"
  },
  "language_info": {
   "codemirror_mode": {
    "name": "ipython",
    "version": 3
   },
   "file_extension": ".py",
   "mimetype": "text/x-python",
   "name": "python",
   "nbconvert_exporter": "python",
   "pygments_lexer": "ipython3",
   "version": "3.13.3"
  }
 },
 "nbformat": 4,
 "nbformat_minor": 5
}
